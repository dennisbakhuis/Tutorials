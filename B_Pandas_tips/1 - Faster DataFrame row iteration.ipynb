{
 "cells": [
  {
   "cell_type": "markdown",
   "metadata": {},
   "source": [
    "# Pandas tip #1: Faster DataFrame row Iteration\n",
    "Vectorizing the data is often the fastest way to process the data. There are however situations that you are still need to iterate through each row of a DataFrame. Reasons are most often that you solve a problem (too) \"quick and dirty\". This is fine for one-time processing and if it is in the order of minutes.\n",
    "\n",
    "When iterating over each row, many use the .iterrows() function of the DataFrame. This method returns the index and a Series object. Pandas cannot guarantee that it returns a view or a copy, therefore, do not change the data you are iterating over directly. Changes you make might not be preserved. \n",
    "\n",
    "Pandas offers another method to iterate over each row: .itertuples(). The .itertuples() method returns a namedtuple object and depending on an option also returns the index. This method returns the same information as .iterrows() while not giving the illusion that you can change the original DataFrame using the iteration. But the best part is that it is 14 times faster than .iterrows(). Lets demonstrate this:"
   ]
  },
  {
   "cell_type": "code",
   "execution_count": null,
   "metadata": {},
   "outputs": [],
   "source": [
    "import numpy as np\n",
    "import pandas as pd\n",
    "\n",
    "df = pd.DataFrame(\n",
    "    np.random.randint(0, 100, size=(100, 4)),\n",
    "    columns=list('ABCD'),\n",
    ")"
   ]
  },
  {
   "cell_type": "code",
   "execution_count": null,
   "metadata": {},
   "outputs": [],
   "source": [
    "df"
   ]
  },
  {
   "cell_type": "markdown",
   "metadata": {},
   "source": [
    "Now lets use the `%%timeit` magic command from Jupyter to assess the speed of the iteration:"
   ]
  },
  {
   "cell_type": "code",
   "execution_count": null,
   "metadata": {},
   "outputs": [],
   "source": [
    "%%timeit\n",
    "\n",
    "for ix, row in df.iterrows():\n",
    "    pass"
   ]
  },
  {
   "cell_type": "code",
   "execution_count": null,
   "metadata": {},
   "outputs": [],
   "source": [
    "(ix, row) = next(df.iterrows())\n",
    "print('row.A = ', row.A)\n",
    "print('\\nFull row Series object:')\n",
    "print(row)"
   ]
  },
  {
   "cell_type": "markdown",
   "metadata": {},
   "source": [
    "It takes about 3.9ms to iterate through the 100 rows, each having 4 columns.\n",
    "\n",
    "Doing the same with .itertuples() is much faster, while having the same information:"
   ]
  },
  {
   "cell_type": "code",
   "execution_count": null,
   "metadata": {},
   "outputs": [],
   "source": [
    "%%timeit\n",
    "\n",
    "for nt in df.itertuples():\n",
    "    pass"
   ]
  },
  {
   "cell_type": "markdown",
   "metadata": {},
   "source": [
    "The method is not only faster but also has the exact same information. To show this we need to get a new row first as the for loop has used all instances of the generator. In Python, when creating a generator, the items are cosumed and when the loop is finished, there are no items left."
   ]
  },
  {
   "cell_type": "code",
   "execution_count": null,
   "metadata": {},
   "outputs": [],
   "source": [
    "nt = next(df.itertuples())\n",
    "print('nt.A = ', nt.A)\n",
    "print('\\nFull nametuple object:')\n",
    "print(nt)"
   ]
  },
  {
   "cell_type": "markdown",
   "metadata": {},
   "source": [
    "The index gets the name 'index' and is accessible through `nt.index`. There is a tiny speed-up when you tell Pandas to exclude the index. However, for debugging, it is often easier to keep the index. The index can be excluded using:"
   ]
  },
  {
   "cell_type": "code",
   "execution_count": null,
   "metadata": {},
   "outputs": [],
   "source": [
    "%%timeit\n",
    "\n",
    "for row in df.itertuples(index=False):\n",
    "    pass"
   ]
  },
  {
   "cell_type": "markdown",
   "metadata": {},
   "source": [
    "This is a simple method to increase the speed of your iterations. Of course, when writing code that is used often, invest the time of vectorizing you steps. If it is just short and simple one-time event, use the fastest iteration there is: .itertuples()."
   ]
  },
  {
   "cell_type": "markdown",
   "metadata": {},
   "source": [
    "If you have any questions, comments, or requests, feel free to [contact me on LinkedIn](https://linkedin.com/in/dennisbakhuis)."
   ]
  },
  {
   "cell_type": "code",
   "execution_count": null,
   "metadata": {},
   "outputs": [],
   "source": []
  },
  {
   "cell_type": "code",
   "execution_count": null,
   "metadata": {},
   "outputs": [],
   "source": [
    "\n",
    "# https://linkedin.com/in/dennisbakhuis\n",
    "\n",
    "\n"
   ]
  },
  {
   "cell_type": "code",
   "execution_count": null,
   "metadata": {},
   "outputs": [],
   "source": []
  },
  {
   "cell_type": "code",
   "execution_count": null,
   "metadata": {},
   "outputs": [],
   "source": []
  },
  {
   "cell_type": "code",
   "execution_count": null,
   "metadata": {},
   "outputs": [],
   "source": []
  }
 ],
 "metadata": {
  "kernelspec": {
   "display_name": "Python 3",
   "language": "python",
   "name": "python3"
  },
  "language_info": {
   "codemirror_mode": {
    "name": "ipython",
    "version": 3
   },
   "file_extension": ".py",
   "mimetype": "text/x-python",
   "name": "python",
   "nbconvert_exporter": "python",
   "pygments_lexer": "ipython3",
   "version": "3.7.7"
  }
 },
 "nbformat": 4,
 "nbformat_minor": 4
}
