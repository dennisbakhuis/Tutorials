{
 "cells": [
  {
   "cell_type": "markdown",
   "metadata": {},
   "source": [
    "# Pandas tip #2: Split text column into multiple new columns\n",
    "In my projects I always do my first data analysis in Pandas. Often, one of the columns contains text data and requires some processing. For example, the column contains `first` and `last` name. What I previously did was write a Lambda function and use the apply to process each row. There is however a better way using `.str.split()` which is very similar to Python's `.split()` method. Using the `expand=True` parameter, the splitted result is put in new columns."
   ]
  },
  {
   "cell_type": "code",
   "execution_count": null,
   "metadata": {},
   "outputs": [],
   "source": [
    "import pandas as pd\n",
    "\n",
    "df = pd.DataFrame([\n",
    "    {'path': 'train/data_shard_1.csv'},\n",
    "    {'path': 'train/data_shard_2.csv'},\n",
    "    {'path': 'train/data_shard_3.csv'},\n",
    "    {'path': 'test/data_shard_1.csv'},\n",
    "    {'path': 'test/data_shard_2.csv'},\n",
    "])"
   ]
  },
  {
   "cell_type": "code",
   "execution_count": null,
   "metadata": {},
   "outputs": [],
   "source": [
    "# https://linkedin.com/in/dennisbakhuis\n",
    "df = (df\n",
    "    .join(df\n",
    "        .loc[:, 'path']\n",
    "        .str.split('/', expand=True)\n",
    "        .rename(columns={0: 'folder', 1: 'filename'})\n",
    "    )\n",
    ")\n",
    "\n",
    "df"
   ]
  },
  {
   "cell_type": "code",
   "execution_count": null,
   "metadata": {},
   "outputs": [],
   "source": []
  },
  {
   "cell_type": "code",
   "execution_count": null,
   "metadata": {},
   "outputs": [],
   "source": []
  },
  {
   "cell_type": "markdown",
   "metadata": {},
   "source": [
    "### A more meaningful example\n",
    "Most of you probably have seen the Titanic dataset. This dataset has a `Name` column which has some hidden information. It always starts with the last name (or family name) followed by a title of the person. We can easily extract that information using `.str.split(expand=True)`. Lets have a look:"
   ]
  },
  {
   "cell_type": "code",
   "execution_count": null,
   "metadata": {},
   "outputs": [],
   "source": [
    "# Use a list of column names to ensure we return a DataFrame\n",
    "df = pd.read_csv('Assets/Titanic_train_data.csv')[['Name']]\n",
    "df"
   ]
  },
  {
   "cell_type": "markdown",
   "metadata": {},
   "source": [
    "The family name is before the `,` and the syntax is very similar to the regular `.split()`:"
   ]
  },
  {
   "cell_type": "code",
   "execution_count": null,
   "metadata": {},
   "outputs": [],
   "source": [
    "df['family_name'] = df['Name'].str.split(',', expand=True)[0]\n",
    "df"
   ]
  },
  {
   "cell_type": "markdown",
   "metadata": {},
   "source": [
    "To get the title, we have to chain a couple of splits after each other."
   ]
  },
  {
   "cell_type": "code",
   "execution_count": null,
   "metadata": {},
   "outputs": [],
   "source": [
    "df['title'] = (df\n",
    "    .loc[:, 'Name']  # is the same as df['Name'] but looks better\n",
    "    .str.split(',', expand=True)[1]\n",
    "    .str.split(expand=True)[0]\n",
    "    .str.split('.', expand=True)[0]  # remove the `.`\n",
    ")"
   ]
  },
  {
   "cell_type": "code",
   "execution_count": null,
   "metadata": {},
   "outputs": [],
   "source": [
    "df"
   ]
  },
  {
   "cell_type": "markdown",
   "metadata": {},
   "source": [
    "If you have any questions, comments, or requests, feel free to [contact me on LinkedIn](https://linkedin.com/in/dennisbakhuis)."
   ]
  },
  {
   "cell_type": "code",
   "execution_count": null,
   "metadata": {},
   "outputs": [],
   "source": []
  },
  {
   "cell_type": "code",
   "execution_count": null,
   "metadata": {},
   "outputs": [],
   "source": []
  },
  {
   "cell_type": "code",
   "execution_count": null,
   "metadata": {},
   "outputs": [],
   "source": []
  },
  {
   "cell_type": "code",
   "execution_count": null,
   "metadata": {},
   "outputs": [],
   "source": [
    "df['folder'] = df['path'].apply(lambda x: x.split('/')[0])\n",
    "df['filename'] = df['path'].apply(lambda x: x.split('/')[1])"
   ]
  },
  {
   "cell_type": "code",
   "execution_count": null,
   "metadata": {},
   "outputs": [],
   "source": [
    "df['folder'] = df['path'].str.split('/', expand=True)[0]\n",
    "df['filename'] = df['path'].str.split('/', expand=True)[1]"
   ]
  },
  {
   "cell_type": "code",
   "execution_count": null,
   "metadata": {},
   "outputs": [],
   "source": []
  },
  {
   "cell_type": "code",
   "execution_count": null,
   "metadata": {},
   "outputs": [],
   "source": []
  }
 ],
 "metadata": {
  "kernelspec": {
   "display_name": "Python 3",
   "language": "python",
   "name": "python3"
  },
  "language_info": {
   "codemirror_mode": {
    "name": "ipython",
    "version": 3
   },
   "file_extension": ".py",
   "mimetype": "text/x-python",
   "name": "python",
   "nbconvert_exporter": "python",
   "pygments_lexer": "ipython3",
   "version": "3.7.7"
  }
 },
 "nbformat": 4,
 "nbformat_minor": 4
}
