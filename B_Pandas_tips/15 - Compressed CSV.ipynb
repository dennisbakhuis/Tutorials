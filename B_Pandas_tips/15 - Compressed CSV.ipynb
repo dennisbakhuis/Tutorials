{
 "cells": [
  {
   "cell_type": "markdown",
   "metadata": {},
   "source": [
    "# Pandas tip #15: Compress your data!\n",
    "When working with data you often come accross CSV files. The great thing about CSV files is that they are human readable. The bad thing is that they are not very space efficient. My experience is that the 'human readable' benefit is only a marginal benefit when working with that file for the first time.\n",
    "\n",
    "A nice CSV feature of Pandas is to store your data in a compressed way using the `compression` parameter. Out of the box Pandas can us zip/gzip, bz2, and xz compression when storing a DataFrame. As we are generally using the '.csv.gz' as an extention, Pandas can automatically infer the compression, therefore, we can omit the `compression` parameter.\n",
    "\n",
    "As we are compressing the data, it takes a bit more effort to store the data. Obviously, the compressed file is not human readable anymore. Under the hood, Pandas uses the gzip, bzip2, and the xz library and streams the text lines to the compressed file. The most efficient is bzip2, which reduces the size to one third of the original size while taking three times longer.\n",
    "\n",
    "Writing the data line by line is of course not very efficient and as we loose the \"benefit\" of human readability anyhow, we could also store it as Parquet. Parquet is a column format and highly optimized for reading, i.e. writing takes a bit more effort. Still, compared to a method that stores line by line, Parquet is blazingly fast and until now, I have not yet seen any real downsides of using it.\n",
    "\n",
    "Parquet is by far my favorite format and I highly recommend it!"
   ]
  },
  {
   "cell_type": "markdown",
   "metadata": {},
   "source": [
    "Lets generate some random data:"
   ]
  },
  {
   "cell_type": "code",
   "execution_count": null,
   "metadata": {},
   "outputs": [],
   "source": [
    "import numpy as np\n",
    "import pandas as pd\n",
    "from pathlib import Path\n",
    "\n",
    "rng = np.random.default_rng(42)\n",
    "n_rows, n_cols = 100_000, 100\n",
    "\n",
    "df = pd.DataFrame(\n",
    "    rng.integers(0,1000, size=(n_rows, n_cols)),\n",
    "    columns=[str(x) for x in np.arange(n_cols)]\n",
    ")"
   ]
  },
  {
   "cell_type": "markdown",
   "metadata": {},
   "source": [
    "Lets save this to a regular csv:"
   ]
  },
  {
   "cell_type": "code",
   "execution_count": null,
   "metadata": {},
   "outputs": [],
   "source": [
    "def get_filesize(f: Path) -> str:\n",
    "    file_size = f.stat().st_size\n",
    "    for unit in ['','K','M','G','T']:\n",
    "        if file_size < 1024:\n",
    "            return f\"{file_size:3.1f}{unit}B\"\n",
    "        file_size /= 1024"
   ]
  },
  {
   "cell_type": "code",
   "execution_count": null,
   "metadata": {},
   "outputs": [],
   "source": [
    "%%time\n",
    "large_file = Path('large_file.csv')\n",
    "df.to_csv(large_file)\n",
    "print(f'CSV file size: {get_filesize(large_file)}')"
   ]
  },
  {
   "cell_type": "markdown",
   "metadata": {},
   "source": [
    "Using gzip compression:"
   ]
  },
  {
   "cell_type": "code",
   "execution_count": null,
   "metadata": {},
   "outputs": [],
   "source": [
    "gzip_file = Path('gzipped_file.csv.gz')"
   ]
  },
  {
   "cell_type": "code",
   "execution_count": null,
   "metadata": {},
   "outputs": [],
   "source": [
    "%%time\n",
    "df.to_csv(gzip_file, compression='gzip')"
   ]
  },
  {
   "cell_type": "code",
   "execution_count": null,
   "metadata": {},
   "outputs": [],
   "source": [
    "print(f'GZ CSV file size: {get_filesize(gzip_file)}')"
   ]
  },
  {
   "cell_type": "markdown",
   "metadata": {},
   "source": [
    "The default option for `compression` is 'infer' which detects which type of compression is used from the extention. Therefore, we only need to supply the .gz extentions and it will automatically gzip the file."
   ]
  },
  {
   "cell_type": "code",
   "execution_count": null,
   "metadata": {},
   "outputs": [],
   "source": [
    "bzip_file = Path('bzipped_file.csv.bz2')"
   ]
  },
  {
   "cell_type": "code",
   "execution_count": null,
   "metadata": {},
   "outputs": [],
   "source": [
    "%%time\n",
    "df.to_csv(bzip_file)"
   ]
  },
  {
   "cell_type": "code",
   "execution_count": null,
   "metadata": {},
   "outputs": [],
   "source": [
    "print(f'BZ2 CSV file size: {get_filesize(bzip_file)}')"
   ]
  },
  {
   "cell_type": "code",
   "execution_count": null,
   "metadata": {},
   "outputs": [],
   "source": [
    "xzip_file = Path('xzipped_file.csv.xz')"
   ]
  },
  {
   "cell_type": "code",
   "execution_count": null,
   "metadata": {},
   "outputs": [],
   "source": [
    "%%time\n",
    "df.to_csv(xzip_file)"
   ]
  },
  {
   "cell_type": "code",
   "execution_count": null,
   "metadata": {},
   "outputs": [],
   "source": [
    "print(f'XZ CSV file size: {get_filesize(xzip_file)}')"
   ]
  },
  {
   "cell_type": "code",
   "execution_count": null,
   "metadata": {},
   "outputs": [],
   "source": [
    "parquet_file = Path('parquet_file.parquet')"
   ]
  },
  {
   "cell_type": "code",
   "execution_count": null,
   "metadata": {},
   "outputs": [],
   "source": [
    "%%time\n",
    "df.to_parquet(parquet_file)"
   ]
  },
  {
   "cell_type": "code",
   "execution_count": null,
   "metadata": {},
   "outputs": [],
   "source": [
    "print(f'Parquet file size: {get_filesize(parquet_file)}')"
   ]
  },
  {
   "cell_type": "markdown",
   "metadata": {},
   "source": [
    "If you have any questions, comments, or requests, feel free to [contact me on LinkedIn](https://linkedin.com/in/dennisbakhuis)."
   ]
  },
  {
   "cell_type": "code",
   "execution_count": null,
   "metadata": {},
   "outputs": [],
   "source": []
  },
  {
   "cell_type": "code",
   "execution_count": null,
   "metadata": {},
   "outputs": [],
   "source": []
  },
  {
   "cell_type": "code",
   "execution_count": null,
   "metadata": {},
   "outputs": [],
   "source": []
  },
  {
   "cell_type": "code",
   "execution_count": null,
   "metadata": {},
   "outputs": [],
   "source": []
  }
 ],
 "metadata": {
  "kernelspec": {
   "display_name": "Python 3 (ipykernel)",
   "language": "python",
   "name": "python3"
  },
  "language_info": {
   "codemirror_mode": {
    "name": "ipython",
    "version": 3
   },
   "file_extension": ".py",
   "mimetype": "text/x-python",
   "name": "python",
   "nbconvert_exporter": "python",
   "pygments_lexer": "ipython3",
   "version": "3.9.5"
  }
 },
 "nbformat": 4,
 "nbformat_minor": 4
}
