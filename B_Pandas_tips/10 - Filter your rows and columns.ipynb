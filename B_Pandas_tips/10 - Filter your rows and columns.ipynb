{
 "cells": [
  {
   "cell_type": "markdown",
   "metadata": {},
   "source": [
    "# Pandas tip #10: filter your rows and columns\n",
    "Tabular data can consist of a large number of columns and sometimes you want to select a subset of columns in a smart way. For example, you have a dataset that contains the color combination for a car and you want to get all the columns about colors.\n",
    "\n",
    "I used to .loc[] until I dropped and used a list comprehension to select the columns I want. This works very well but also is quite long and therefore, less readable. For such cases Pandas almost always offers a neater way to solve that problem: .filter().\n",
    "\n",
    "The .filter() method helps you to select a subset of the DataFrame, but it only filters the labels, not the content. There are three parameters that can be used for filtering: items, like, and regex. The first parameter is simply a list of label names and must match exactly. The second parameter works similar to the `LIKE` keyword in SQL and is used to filter labels that contains the substring passed to like. With the regex parameter we can pass a regex as a selection criteria.\n",
    "\n",
    "Pandas offers many of such small improvements and I think those make the code much more readable and a bit less typing."
   ]
  },
  {
   "cell_type": "markdown",
   "metadata": {},
   "source": [
    "Lets generate some random data:"
   ]
  },
  {
   "cell_type": "code",
   "execution_count": null,
   "metadata": {},
   "outputs": [],
   "source": [
    "import numpy as np\n",
    "import pandas as pd\n",
    "\n",
    "colors = ['red', 'blue', 'yellow', 'green', 'purple'] \n",
    "n_samples = 100\n",
    "\n",
    "rng = np.random.default_rng()\n",
    "df = pd.DataFrame({\n",
    "    'car_serial_id': rng.integers(0, 1000, size=n_samples),    \n",
    "    'body_color': rng.choice(colors, size=n_samples),\n",
    "    'door_color': rng.choice(colors, size=n_samples),\n",
    "    'roof_color': rng.choice(colors, size=n_samples),\n",
    "})"
   ]
  },
  {
   "cell_type": "markdown",
   "metadata": {},
   "source": [
    "Select all rows containing color:"
   ]
  },
  {
   "cell_type": "code",
   "execution_count": null,
   "metadata": {},
   "outputs": [],
   "source": [
    "df.loc[\n",
    "    :,\n",
    "    [x.endswith('_color') for x in df.columns]\n",
    "]"
   ]
  },
  {
   "cell_type": "markdown",
   "metadata": {},
   "source": [
    "It is much easier using the filter command:"
   ]
  },
  {
   "cell_type": "code",
   "execution_count": null,
   "metadata": {},
   "outputs": [],
   "source": [
    "df.filter(like='color', axis=1)"
   ]
  },
  {
   "cell_type": "markdown",
   "metadata": {},
   "source": [
    "If you have any questions, comments, or requests, feel free to [contact me on LinkedIn](https://linkedin.com/in/dennisbakhuis)."
   ]
  },
  {
   "cell_type": "code",
   "execution_count": null,
   "metadata": {},
   "outputs": [],
   "source": []
  },
  {
   "cell_type": "code",
   "execution_count": null,
   "metadata": {},
   "outputs": [],
   "source": []
  }
 ],
 "metadata": {
  "kernelspec": {
   "display_name": "Python 3",
   "language": "python",
   "name": "python3"
  },
  "language_info": {
   "codemirror_mode": {
    "name": "ipython",
    "version": 3
   },
   "file_extension": ".py",
   "mimetype": "text/x-python",
   "name": "python",
   "nbconvert_exporter": "python",
   "pygments_lexer": "ipython3",
   "version": "3.7.7"
  }
 },
 "nbformat": 4,
 "nbformat_minor": 4
}
