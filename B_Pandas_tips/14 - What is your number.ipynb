{
 "cells": [
  {
   "cell_type": "markdown",
   "metadata": {},
   "source": [
    "# Pandas tip #14: What's your number?\n",
    "When importing data I regularly come accross strings that are actually numbers. It is not too hard to convert them into their true data type. A few years ago I would simply use a lambda function that contains a try/catch statement to fix errors in the dataset. As with many things, Pandas has this already implemented using the .to_numeric() function. \n",
    "\n",
    "Just like .to_datetime(), the .to_numeric() function is a called straight from Pandas library, i.e. it is not a method of the DataFrame or Series object. By default, it will raise an exception when a value cannot be transformed into a numeric value. This behaviour can be altered using the `errors` parameter. Next to `errors='raise'`, we can set it to `errors='ignore'` to keep the original value, or `errors='coerce'` to set errors to NA.\n",
    "\n",
    "Another nice feature is to 'downgrade' the numeric values into a specific data type. This is helpful when you expect a certain data type, i.e. integers, signed, or unsigned values. It does not round values, but simply type cast them. This could lead to errors that are not catched by the errors parameter. Another thing to keep in mind is that the standard integer data type does not contain a NA value, therefore, if you data contains any NA, it will by default be casted to float.\n",
    "\n",
    "The .to_numeric() function is my first go to for string to numeric conversion!"
   ]
  },
  {
   "cell_type": "markdown",
   "metadata": {},
   "source": [
    "Lets generate some random data:"
   ]
  },
  {
   "cell_type": "code",
   "execution_count": null,
   "metadata": {},
   "outputs": [],
   "source": [
    "import numpy as np\n",
    "import pandas as pd\n",
    "from itertools import product\n",
    "\n",
    "rng = np.random.default_rng(42)\n",
    "n_rows = 100\n",
    "str_numbers = [str(x) for x in rng.integers(0, 1000, size=n_rows)]\n",
    "str_numbers += ['-', 'Nope', 'Poop']  # add some random noise\n",
    "\n",
    "df = pd.DataFrame({\n",
    "    'id': np.arange(n_rows),\n",
    "    'number': rng.choice(str_numbers, size=n_rows),\n",
    "})"
   ]
  },
  {
   "cell_type": "markdown",
   "metadata": {},
   "source": [
    "We have these unique values:"
   ]
  },
  {
   "cell_type": "code",
   "execution_count": null,
   "metadata": {},
   "outputs": [],
   "source": [
    "df.number.unique()"
   ]
  },
  {
   "cell_type": "markdown",
   "metadata": {},
   "source": [
    "Now we can easily convert them into numbers using Pandas, including error handling:"
   ]
  },
  {
   "cell_type": "code",
   "execution_count": null,
   "metadata": {},
   "outputs": [],
   "source": [
    "pd.to_numeric(df.number, errors='coerce')"
   ]
  },
  {
   "cell_type": "markdown",
   "metadata": {},
   "source": [
    "We could create integers using the downcast:"
   ]
  },
  {
   "cell_type": "code",
   "execution_count": null,
   "metadata": {},
   "outputs": [],
   "source": [
    "pd.to_numeric(df.number, errors='coerce', downcast='integer')"
   ]
  },
  {
   "cell_type": "markdown",
   "metadata": {},
   "source": [
    "However, the standard integer datatype does cannot handle NA, therefore, it is cast into float."
   ]
  },
  {
   "cell_type": "markdown",
   "metadata": {},
   "source": [
    "If you have any questions, comments, or requests, feel free to [contact me on LinkedIn](https://linkedin.com/in/dennisbakhuis)."
   ]
  },
  {
   "cell_type": "code",
   "execution_count": null,
   "metadata": {},
   "outputs": [],
   "source": []
  },
  {
   "cell_type": "code",
   "execution_count": null,
   "metadata": {},
   "outputs": [],
   "source": []
  },
  {
   "cell_type": "code",
   "execution_count": null,
   "metadata": {},
   "outputs": [],
   "source": []
  },
  {
   "cell_type": "code",
   "execution_count": null,
   "metadata": {},
   "outputs": [],
   "source": []
  }
 ],
 "metadata": {
  "kernelspec": {
   "display_name": "Python 3 (ipykernel)",
   "language": "python",
   "name": "python3"
  },
  "language_info": {
   "codemirror_mode": {
    "name": "ipython",
    "version": 3
   },
   "file_extension": ".py",
   "mimetype": "text/x-python",
   "name": "python",
   "nbconvert_exporter": "python",
   "pygments_lexer": "ipython3",
   "version": "3.9.5"
  }
 },
 "nbformat": 4,
 "nbformat_minor": 4
}
