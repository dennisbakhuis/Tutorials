{
 "cells": [
  {
   "cell_type": "markdown",
   "metadata": {},
   "source": [
    "# Pandas tip #3: Transform .groupby() result back into original DataFrame\n",
    "Sometime you need to get a statistic from a subgroup in a dataset and require this statistic to be in the original dataset. Previously I did this in multiple steps but this can also be achieved by a lesser known method in Pandas: `.transform()`.\n",
    "\n",
    "The `.transform()` method acts very similarly to the `.apply()` function and is especially powerfull after a `.groupby()`. It does a sort of `.apply()` on the groupby result and then transforms this into the length of the original DataFrame. Lets have a look a some artificial data:"
   ]
  },
  {
   "cell_type": "code",
   "execution_count": 15,
   "metadata": {},
   "outputs": [],
   "source": [
    "import pandas as pd\n",
    "import random\n",
    "\n",
    "N = 100  # number of samples\n",
    "max_amount = 1000  # maximum amount spend\n",
    "groups = ['A', 'B', 'C', 'D']  # Groups\n",
    "random.seed(42)\n",
    "\n",
    "df = pd.DataFrame([\n",
    "    {\n",
    "        'id': ix, \n",
    "        'group': random.choice(groups), \n",
    "        'spend_money': round(random.random() * max_amount, 2),\n",
    "    } for ix in range(N)\n",
    "])"
   ]
  },
  {
   "cell_type": "markdown",
   "metadata": {},
   "source": [
    "Using .value_counts() we can quickly see how often groups occur."
   ]
  },
  {
   "cell_type": "code",
   "execution_count": 17,
   "metadata": {},
   "outputs": [
    {
     "data": {
      "text/plain": [
       "A    29\n",
       "B    25\n",
       "D    24\n",
       "C    22\n",
       "Name: group, dtype: int64"
      ]
     },
     "execution_count": 17,
     "metadata": {},
     "output_type": "execute_result"
    }
   ],
   "source": [
    "# https://linkedin.com/in/dennisbakhuis\n",
    "df['group'].value_counts()"
   ]
  },
  {
   "cell_type": "markdown",
   "metadata": {},
   "source": [
    "Now, as an example, lets say we want to see the average `money_spend` for each group. This can easily be done using a `.groupby()`"
   ]
  },
  {
   "cell_type": "code",
   "execution_count": 22,
   "metadata": {},
   "outputs": [
    {
     "data": {
      "text/plain": [
       "group\n",
       "A    504.031724\n",
       "B    506.783600\n",
       "C    530.030909\n",
       "D    448.651250\n",
       "Name: spend_money, dtype: float64"
      ]
     },
     "execution_count": 22,
     "metadata": {},
     "output_type": "execute_result"
    }
   ],
   "source": [
    "(df\n",
    "    .groupby('group')['spend_money']\n",
    "    .mean()\n",
    ")"
   ]
  },
  {
   "cell_type": "markdown",
   "metadata": {},
   "source": [
    "To \"transform\" these results back to the original DataFrame we can make use of the `.transform()` function:"
   ]
  },
  {
   "cell_type": "code",
   "execution_count": 25,
   "metadata": {},
   "outputs": [
    {
     "data": {
      "text/html": [
       "<div>\n",
       "<style scoped>\n",
       "    .dataframe tbody tr th:only-of-type {\n",
       "        vertical-align: middle;\n",
       "    }\n",
       "\n",
       "    .dataframe tbody tr th {\n",
       "        vertical-align: top;\n",
       "    }\n",
       "\n",
       "    .dataframe thead th {\n",
       "        text-align: right;\n",
       "    }\n",
       "</style>\n",
       "<table border=\"1\" class=\"dataframe\">\n",
       "  <thead>\n",
       "    <tr style=\"text-align: right;\">\n",
       "      <th></th>\n",
       "      <th>id</th>\n",
       "      <th>group</th>\n",
       "      <th>spend_money</th>\n",
       "      <th>group_mean</th>\n",
       "    </tr>\n",
       "  </thead>\n",
       "  <tbody>\n",
       "    <tr>\n",
       "      <th>0</th>\n",
       "      <td>0</td>\n",
       "      <td>A</td>\n",
       "      <td>25.01</td>\n",
       "      <td>504.031724</td>\n",
       "    </tr>\n",
       "    <tr>\n",
       "      <th>1</th>\n",
       "      <td>1</td>\n",
       "      <td>C</td>\n",
       "      <td>244.89</td>\n",
       "      <td>530.030909</td>\n",
       "    </tr>\n",
       "    <tr>\n",
       "      <th>2</th>\n",
       "      <td>2</td>\n",
       "      <td>B</td>\n",
       "      <td>736.47</td>\n",
       "      <td>506.783600</td>\n",
       "    </tr>\n",
       "    <tr>\n",
       "      <th>3</th>\n",
       "      <td>3</td>\n",
       "      <td>A</td>\n",
       "      <td>590.49</td>\n",
       "      <td>504.031724</td>\n",
       "    </tr>\n",
       "    <tr>\n",
       "      <th>4</th>\n",
       "      <td>4</td>\n",
       "      <td>A</td>\n",
       "      <td>29.80</td>\n",
       "      <td>504.031724</td>\n",
       "    </tr>\n",
       "    <tr>\n",
       "      <th>...</th>\n",
       "      <td>...</td>\n",
       "      <td>...</td>\n",
       "      <td>...</td>\n",
       "      <td>...</td>\n",
       "    </tr>\n",
       "    <tr>\n",
       "      <th>95</th>\n",
       "      <td>95</td>\n",
       "      <td>C</td>\n",
       "      <td>800.59</td>\n",
       "      <td>530.030909</td>\n",
       "    </tr>\n",
       "    <tr>\n",
       "      <th>96</th>\n",
       "      <td>96</td>\n",
       "      <td>A</td>\n",
       "      <td>248.66</td>\n",
       "      <td>504.031724</td>\n",
       "    </tr>\n",
       "    <tr>\n",
       "      <th>97</th>\n",
       "      <td>97</td>\n",
       "      <td>B</td>\n",
       "      <td>536.29</td>\n",
       "      <td>506.783600</td>\n",
       "    </tr>\n",
       "    <tr>\n",
       "      <th>98</th>\n",
       "      <td>98</td>\n",
       "      <td>B</td>\n",
       "      <td>421.88</td>\n",
       "      <td>506.783600</td>\n",
       "    </tr>\n",
       "    <tr>\n",
       "      <th>99</th>\n",
       "      <td>99</td>\n",
       "      <td>C</td>\n",
       "      <td>462.63</td>\n",
       "      <td>530.030909</td>\n",
       "    </tr>\n",
       "  </tbody>\n",
       "</table>\n",
       "<p>100 rows × 4 columns</p>\n",
       "</div>"
      ],
      "text/plain": [
       "    id group  spend_money  group_mean\n",
       "0    0     A        25.01  504.031724\n",
       "1    1     C       244.89  530.030909\n",
       "2    2     B       736.47  506.783600\n",
       "3    3     A       590.49  504.031724\n",
       "4    4     A        29.80  504.031724\n",
       "..  ..   ...          ...         ...\n",
       "95  95     C       800.59  530.030909\n",
       "96  96     A       248.66  504.031724\n",
       "97  97     B       536.29  506.783600\n",
       "98  98     B       421.88  506.783600\n",
       "99  99     C       462.63  530.030909\n",
       "\n",
       "[100 rows x 4 columns]"
      ]
     },
     "execution_count": 25,
     "metadata": {},
     "output_type": "execute_result"
    }
   ],
   "source": [
    "df['group_mean'] = (df\n",
    "    .groupby('group')['spend_money']\n",
    "    .transform('mean')\n",
    ")\n",
    "df"
   ]
  },
  {
   "cell_type": "markdown",
   "metadata": {},
   "source": [
    "The `.transform()` is very similar to an apply function and we can give any arbitrary function. For example, we want to select the second smallest value from each group. One way to do this is the following:"
   ]
  },
  {
   "cell_type": "code",
   "execution_count": 29,
   "metadata": {},
   "outputs": [
    {
     "data": {
      "text/plain": [
       "29.8"
      ]
     },
     "execution_count": 29,
     "metadata": {},
     "output_type": "execute_result"
    }
   ],
   "source": [
    "(df\n",
    "    .loc[df['group']=='A', 'spend_money']\n",
    "    .sort_values()\n",
    "    .iloc[1]\n",
    ")"
   ]
  },
  {
   "cell_type": "markdown",
   "metadata": {},
   "source": [
    "Using `.transform()` we can als make use of a function:"
   ]
  },
  {
   "cell_type": "code",
   "execution_count": 31,
   "metadata": {},
   "outputs": [
    {
     "data": {
      "text/html": [
       "<div>\n",
       "<style scoped>\n",
       "    .dataframe tbody tr th:only-of-type {\n",
       "        vertical-align: middle;\n",
       "    }\n",
       "\n",
       "    .dataframe tbody tr th {\n",
       "        vertical-align: top;\n",
       "    }\n",
       "\n",
       "    .dataframe thead th {\n",
       "        text-align: right;\n",
       "    }\n",
       "</style>\n",
       "<table border=\"1\" class=\"dataframe\">\n",
       "  <thead>\n",
       "    <tr style=\"text-align: right;\">\n",
       "      <th></th>\n",
       "      <th>id</th>\n",
       "      <th>group</th>\n",
       "      <th>spend_money</th>\n",
       "      <th>group_mean</th>\n",
       "      <th>2nd_place</th>\n",
       "    </tr>\n",
       "  </thead>\n",
       "  <tbody>\n",
       "    <tr>\n",
       "      <th>0</th>\n",
       "      <td>0</td>\n",
       "      <td>A</td>\n",
       "      <td>25.01</td>\n",
       "      <td>504.031724</td>\n",
       "      <td>29.80</td>\n",
       "    </tr>\n",
       "    <tr>\n",
       "      <th>1</th>\n",
       "      <td>1</td>\n",
       "      <td>C</td>\n",
       "      <td>244.89</td>\n",
       "      <td>530.030909</td>\n",
       "      <td>111.55</td>\n",
       "    </tr>\n",
       "    <tr>\n",
       "      <th>2</th>\n",
       "      <td>2</td>\n",
       "      <td>B</td>\n",
       "      <td>736.47</td>\n",
       "      <td>506.783600</td>\n",
       "      <td>94.33</td>\n",
       "    </tr>\n",
       "    <tr>\n",
       "      <th>3</th>\n",
       "      <td>3</td>\n",
       "      <td>A</td>\n",
       "      <td>590.49</td>\n",
       "      <td>504.031724</td>\n",
       "      <td>29.80</td>\n",
       "    </tr>\n",
       "    <tr>\n",
       "      <th>4</th>\n",
       "      <td>4</td>\n",
       "      <td>A</td>\n",
       "      <td>29.80</td>\n",
       "      <td>504.031724</td>\n",
       "      <td>29.80</td>\n",
       "    </tr>\n",
       "    <tr>\n",
       "      <th>...</th>\n",
       "      <td>...</td>\n",
       "      <td>...</td>\n",
       "      <td>...</td>\n",
       "      <td>...</td>\n",
       "      <td>...</td>\n",
       "    </tr>\n",
       "    <tr>\n",
       "      <th>95</th>\n",
       "      <td>95</td>\n",
       "      <td>C</td>\n",
       "      <td>800.59</td>\n",
       "      <td>530.030909</td>\n",
       "      <td>111.55</td>\n",
       "    </tr>\n",
       "    <tr>\n",
       "      <th>96</th>\n",
       "      <td>96</td>\n",
       "      <td>A</td>\n",
       "      <td>248.66</td>\n",
       "      <td>504.031724</td>\n",
       "      <td>29.80</td>\n",
       "    </tr>\n",
       "    <tr>\n",
       "      <th>97</th>\n",
       "      <td>97</td>\n",
       "      <td>B</td>\n",
       "      <td>536.29</td>\n",
       "      <td>506.783600</td>\n",
       "      <td>94.33</td>\n",
       "    </tr>\n",
       "    <tr>\n",
       "      <th>98</th>\n",
       "      <td>98</td>\n",
       "      <td>B</td>\n",
       "      <td>421.88</td>\n",
       "      <td>506.783600</td>\n",
       "      <td>94.33</td>\n",
       "    </tr>\n",
       "    <tr>\n",
       "      <th>99</th>\n",
       "      <td>99</td>\n",
       "      <td>C</td>\n",
       "      <td>462.63</td>\n",
       "      <td>530.030909</td>\n",
       "      <td>111.55</td>\n",
       "    </tr>\n",
       "  </tbody>\n",
       "</table>\n",
       "<p>100 rows × 5 columns</p>\n",
       "</div>"
      ],
      "text/plain": [
       "    id group  spend_money  group_mean  2nd_place\n",
       "0    0     A        25.01  504.031724      29.80\n",
       "1    1     C       244.89  530.030909     111.55\n",
       "2    2     B       736.47  506.783600      94.33\n",
       "3    3     A       590.49  504.031724      29.80\n",
       "4    4     A        29.80  504.031724      29.80\n",
       "..  ..   ...          ...         ...        ...\n",
       "95  95     C       800.59  530.030909     111.55\n",
       "96  96     A       248.66  504.031724      29.80\n",
       "97  97     B       536.29  506.783600      94.33\n",
       "98  98     B       421.88  506.783600      94.33\n",
       "99  99     C       462.63  530.030909     111.55\n",
       "\n",
       "[100 rows x 5 columns]"
      ]
     },
     "execution_count": 31,
     "metadata": {},
     "output_type": "execute_result"
    }
   ],
   "source": [
    "def second_from_group(group):\n",
    "    if len(group) >= 2:\n",
    "        return group.sort_values().iloc[1]\n",
    "    else:\n",
    "        return None\n",
    "\n",
    "df['2nd_place'] = (df\n",
    "    .groupby('group')['spend_money']\n",
    "    .transform(second_from_group)\n",
    ")\n",
    "df"
   ]
  },
  {
   "cell_type": "markdown",
   "metadata": {},
   "source": [
    "If you have any questions, comments, or requests, feel free to [contact me on LinkedIn](https://linkedin.com/in/dennisbakhuis)."
   ]
  },
  {
   "cell_type": "code",
   "execution_count": null,
   "metadata": {},
   "outputs": [],
   "source": []
  },
  {
   "cell_type": "code",
   "execution_count": null,
   "metadata": {},
   "outputs": [],
   "source": []
  },
  {
   "cell_type": "code",
   "execution_count": null,
   "metadata": {},
   "outputs": [],
   "source": []
  },
  {
   "cell_type": "code",
   "execution_count": null,
   "metadata": {},
   "outputs": [],
   "source": []
  }
 ],
 "metadata": {
  "kernelspec": {
   "display_name": "Python 3",
   "language": "python",
   "name": "python3"
  },
  "language_info": {
   "codemirror_mode": {
    "name": "ipython",
    "version": 3
   },
   "file_extension": ".py",
   "mimetype": "text/x-python",
   "name": "python",
   "nbconvert_exporter": "python",
   "pygments_lexer": "ipython3",
   "version": "3.7.7"
  }
 },
 "nbformat": 4,
 "nbformat_minor": 4
}
