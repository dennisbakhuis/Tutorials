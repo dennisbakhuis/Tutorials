{
 "cells": [
  {
   "cell_type": "markdown",
   "metadata": {},
   "source": [
    "# Pandas tip #12: Ranking the stars in Pandas\n",
    "A method that is sometimes forgotten and is available in Pandas is the .rank(). As the name suggest, it 'ranks' the data, starting from the lowest upto the largest value.\n",
    "\n",
    "When we would rank top artists using votes, the best artist has the highest votes. Therefore, we need to apply ascending=False option to invert the count as by default, the lowest votes would get the highest rank.\n",
    "\n",
    "When there are duplicate numbers, i.e. two artists have an identical amount of votes, .rank() averages the rank. If two artists have identical votes and are op place 2 and 3 in the ranking, both artists would get rank (2 + 3) / 2 = 2.5. To change this behaviour we can change the default method='average' to for example 'min' or 'dense'. Both methods set the artists to the minimum rank (2) but dense also makes the next artist (if there is one) get 3 place, instead of 4.\n",
    "\n",
    "The example shows (one of many possibilities) how to order artists on how often they are ranked 1st, 2nd, and 3rd each year. \n",
    "\n",
    "With .rank() quite a bit is possible and is yet another tool to put in your Pandas toolbox!"
   ]
  },
  {
   "cell_type": "markdown",
   "metadata": {},
   "source": [
    "Lets generate some random data:"
   ]
  },
  {
   "cell_type": "code",
   "execution_count": null,
   "metadata": {},
   "outputs": [],
   "source": [
    "import numpy as np\n",
    "import pandas as pd\n",
    "from itertools import product\n",
    "\n",
    "rng = np.random.default_rng(42)\n",
    "artists = ['Rick Astley', 'Bananarama', 'David Hasselhof']\n",
    "years = range(2010, 2021)\n",
    "\n",
    "df = pd.DataFrame([{\n",
    "    'name': row[1],\n",
    "    'year': row[0],\n",
    "    'votes': rng.integers(100, 1000)\n",
    "} for row in product(years, artists)])"
   ]
  },
  {
   "cell_type": "markdown",
   "metadata": {},
   "source": [
    "Lets rank the artists first per year:"
   ]
  },
  {
   "cell_type": "code",
   "execution_count": null,
   "metadata": {},
   "outputs": [],
   "source": [
    "df['rank'] = (df\n",
    "    .groupby('year')['votes']\n",
    "    .rank(ascending=False, method='dense')\n",
    "    .astype(int)\n",
    ")"
   ]
  },
  {
   "cell_type": "markdown",
   "metadata": {},
   "source": [
    "To get the artists with the most often 1st, 2nd, and 3rd ranks:"
   ]
  },
  {
   "cell_type": "code",
   "execution_count": null,
   "metadata": {},
   "outputs": [],
   "source": [
    "(df\n",
    "    .groupby(['name', 'rank'])['year']\n",
    "    .count()\n",
    "    .sort_values()\n",
    "    .groupby(level=0)\n",
    "    .tail(1)\n",
    "    .sort_index(level=1)\n",
    ")"
   ]
  },
  {
   "cell_type": "markdown",
   "metadata": {},
   "source": [
    "Difference in methods:"
   ]
  },
  {
   "cell_type": "code",
   "execution_count": null,
   "metadata": {},
   "outputs": [],
   "source": [
    "numbers = [1,2,2,2,3,4,4,5]\n",
    "pd.DataFrame({\n",
    "    'numbers': numbers,\n",
    "    'base': pd.Series(numbers).rank(),\n",
    "    'min': pd.Series(numbers).rank(method='min'),\n",
    "    'dense': pd.Series(numbers).rank(method='dense'),\n",
    "})"
   ]
  },
  {
   "cell_type": "markdown",
   "metadata": {},
   "source": [
    "If you have any questions, comments, or requests, feel free to [contact me on LinkedIn](https://linkedin.com/in/dennisbakhuis)."
   ]
  },
  {
   "cell_type": "code",
   "execution_count": null,
   "metadata": {},
   "outputs": [],
   "source": []
  },
  {
   "cell_type": "code",
   "execution_count": null,
   "metadata": {},
   "outputs": [],
   "source": []
  }
 ],
 "metadata": {
  "kernelspec": {
   "display_name": "Python 3",
   "language": "python",
   "name": "python3"
  },
  "language_info": {
   "codemirror_mode": {
    "name": "ipython",
    "version": 3
   },
   "file_extension": ".py",
   "mimetype": "text/x-python",
   "name": "python",
   "nbconvert_exporter": "python",
   "pygments_lexer": "ipython3",
   "version": "3.7.7"
  }
 },
 "nbformat": 4,
 "nbformat_minor": 4
}
