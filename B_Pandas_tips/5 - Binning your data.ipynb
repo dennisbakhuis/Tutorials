{
 "cells": [
  {
   "cell_type": "markdown",
   "metadata": {},
   "source": [
    "# Pandas tip #5: Binning your data\n",
    "Depending on the type of data, you often want to have a look at the distribution. This can be done using a histogram or better using a normalized histogram. As many know, Pandas as the .hist() function that can easily plot the histogram. It is a Matplotlib function under the hood, that accepts a bins for the bins and the density variable to have the plot normalized.\n",
    "\n",
    "To have more control, we can also use another way of binning, using .cut() function. This attaches the right bin to each and can be stored in a new column. Using .groupby(), we can a new aggregate DataFrame with histogram. The nice thing about the .groupby() method is the bin is shown as an interval in the index. Normalization (surface of the plot should be unity) has to be done manually but is easy to do."
   ]
  },
  {
   "cell_type": "markdown",
   "metadata": {},
   "source": [
    "Lets generate some random data:"
   ]
  },
  {
   "cell_type": "code",
   "execution_count": null,
   "metadata": {},
   "outputs": [],
   "source": [
    "import numpy as np\n",
    "import pandas as pd\n",
    "\n",
    "rng = np.random.default_rng()\n",
    "df = pd.DataFrame({\n",
    "    'value': rng.normal(loc=4, scale=1, size=10_000),\n",
    "})"
   ]
  },
  {
   "cell_type": "code",
   "execution_count": null,
   "metadata": {},
   "outputs": [],
   "source": [
    "# Just plotting the PDF\n",
    "bins = np.linspace(0, 8, 25)\n",
    "# https://linkedin.com/in/dennisbakhuis\n",
    "_ = df.value.hist(bins=bins, density=True, figsize=(12, 5))"
   ]
  },
  {
   "cell_type": "code",
   "execution_count": null,
   "metadata": {},
   "outputs": [],
   "source": [
    "# binning\n",
    "df['bin'] = pd.cut(df.value, bins=bins)\n",
    "\n",
    "hist = (df\n",
    "    .groupby('bin')[['value']]\n",
    "    .count()\n",
    ")\n",
    "\n",
    "hist.value.plot.bar(figsize=(12,5), fontsize=16)"
   ]
  },
  {
   "cell_type": "code",
   "execution_count": null,
   "metadata": {},
   "outputs": [],
   "source": [
    "# normalizing\n",
    "bin_width = bins[1] - bins[0]\n",
    "hist['norm'] = hist['value'] / len(df) / bin_width\n",
    "\n",
    "hist.norm.plot.bar(figsize=(12,5), fontsize=16, color='orange')"
   ]
  },
  {
   "cell_type": "markdown",
   "metadata": {},
   "source": [
    "If you have any questions, comments, or requests, feel free to [contact me on LinkedIn](https://linkedin.com/in/dennisbakhuis)."
   ]
  },
  {
   "cell_type": "code",
   "execution_count": null,
   "metadata": {},
   "outputs": [],
   "source": []
  },
  {
   "cell_type": "code",
   "execution_count": null,
   "metadata": {},
   "outputs": [],
   "source": []
  }
 ],
 "metadata": {
  "kernelspec": {
   "display_name": "Python 3",
   "language": "python",
   "name": "python3"
  },
  "language_info": {
   "codemirror_mode": {
    "name": "ipython",
    "version": 3
   },
   "file_extension": ".py",
   "mimetype": "text/x-python",
   "name": "python",
   "nbconvert_exporter": "python",
   "pygments_lexer": "ipython3",
   "version": "3.7.7"
  }
 },
 "nbformat": 4,
 "nbformat_minor": 4
}
