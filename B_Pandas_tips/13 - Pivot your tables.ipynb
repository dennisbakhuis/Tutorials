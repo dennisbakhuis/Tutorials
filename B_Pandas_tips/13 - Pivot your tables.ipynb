{
 "cells": [
  {
   "cell_type": "markdown",
   "metadata": {},
   "source": [
    "# Pandas tip #13: Pivot your tabes\n",
    "\n",
    "One of the most powerfull tools in Pandas is .pivot_tables(). Some of you might know about pivotting tables from spreadsheet softwares like MS Excel or Google Sheets, I first saw it in Pandas and it felt like magic to me. The .pivot_tables() can be seen as some sort of two-dimensional .groupby() combined with and aggregate. when you have data that has customer <x> buying an amount <x> of product <y>, you can quickly create a overview using .pivot_tables().\n",
    "\n",
    ".pivot_tables() can be called as a method from a DataFrame or directly using Pandas. Of course, with the latter you need to specify on which DataFrame to process. The method has two group parameters: index and columns. It is required to provide at least one of these parameters and the name is already pretty descriptive when keeping a .groupby() in mind. Using just one group parameter is similar to a regular .groupby() + aggregate. The value(s) to be aggregated can be selected using the values parameter. Without this parameter, all numeric parameters are selected. By default, the aggregate is set to aggfunc=np.mean but any function can be set here.\n",
    "    \n",
    "Under the hood, .pivot_tables() is indeed a .groupby() combined with an .agg() and an unstack(). This is better shown in the example.\n",
    "\n",
    "While it has a specific use, .pivot_table() is surely a magical tool to know."
   ]
  },
  {
   "cell_type": "markdown",
   "metadata": {},
   "source": [
    "Lets generate some random data:"
   ]
  },
  {
   "cell_type": "code",
   "execution_count": null,
   "metadata": {},
   "outputs": [],
   "source": [
    "import numpy as np\n",
    "import pandas as pd\n",
    "from itertools import product\n",
    "\n",
    "rng = np.random.default_rng(42)\n",
    "customers = ['Dennis Bakhuis', 'Elon Musk', 'David Copperfield']\n",
    "product_types = ['Fruits', 'Electronics', 'Tools', 'Veggies']\n",
    "n_rows = 100\n",
    "\n",
    "df = pd.DataFrame({\n",
    "    'customer': rng.choice(customers, size=n_rows),\n",
    "    'product_type': rng.choice(product_types, size=n_rows),\n",
    "    'quantity': rng.integers(1, 5, size=n_rows)\n",
    "})"
   ]
  },
  {
   "cell_type": "code",
   "execution_count": null,
   "metadata": {},
   "outputs": [],
   "source": [
    "df"
   ]
  },
  {
   "cell_type": "markdown",
   "metadata": {},
   "source": [
    "Lets rank the artists first per year:"
   ]
  },
  {
   "cell_type": "code",
   "execution_count": null,
   "metadata": {},
   "outputs": [],
   "source": [
    "df.pivot_table(\n",
    "    index=\"customer\", \n",
    "    columns=\"product_type\", \n",
    "    values=\"quantity\", \n",
    "    aggfunc=np.sum,\n",
    ")"
   ]
  },
  {
   "cell_type": "markdown",
   "metadata": {},
   "source": [
    "What is happening under the hood:"
   ]
  },
  {
   "cell_type": "code",
   "execution_count": null,
   "metadata": {},
   "outputs": [],
   "source": [
    "df.groupby(['customer', 'product_type'])['quantity'].agg(np.sum).unstack()"
   ]
  },
  {
   "cell_type": "markdown",
   "metadata": {},
   "source": [
    "Only selecting one 'group' parameter give the totals:"
   ]
  },
  {
   "cell_type": "code",
   "execution_count": null,
   "metadata": {},
   "outputs": [],
   "source": [
    "df.pivot_table(\n",
    "    columns=\"product_type\", \n",
    "    aggfunc=np.sum,\n",
    ")"
   ]
  },
  {
   "cell_type": "code",
   "execution_count": null,
   "metadata": {},
   "outputs": [],
   "source": [
    "df.pivot_table(\n",
    "    index=\"customer\", \n",
    "    aggfunc=np.sum,\n",
    ")"
   ]
  },
  {
   "cell_type": "markdown",
   "metadata": {},
   "source": [
    "If you have any questions, comments, or requests, feel free to [contact me on LinkedIn](https://linkedin.com/in/dennisbakhuis)."
   ]
  },
  {
   "cell_type": "code",
   "execution_count": null,
   "metadata": {},
   "outputs": [],
   "source": []
  },
  {
   "cell_type": "code",
   "execution_count": null,
   "metadata": {},
   "outputs": [],
   "source": []
  },
  {
   "cell_type": "code",
   "execution_count": null,
   "metadata": {},
   "outputs": [],
   "source": []
  },
  {
   "cell_type": "code",
   "execution_count": null,
   "metadata": {},
   "outputs": [],
   "source": []
  }
 ],
 "metadata": {
  "kernelspec": {
   "display_name": "Python 3 (ipykernel)",
   "language": "python",
   "name": "python3"
  },
  "language_info": {
   "codemirror_mode": {
    "name": "ipython",
    "version": 3
   },
   "file_extension": ".py",
   "mimetype": "text/x-python",
   "name": "python",
   "nbconvert_exporter": "python",
   "pygments_lexer": "ipython3",
   "version": "3.9.5"
  }
 },
 "nbformat": 4,
 "nbformat_minor": 4
}
